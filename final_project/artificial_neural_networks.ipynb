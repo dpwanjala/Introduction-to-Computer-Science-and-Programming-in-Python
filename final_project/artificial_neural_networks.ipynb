{
 "cells": [
  {
   "cell_type": "code",
   "execution_count": null,
   "outputs": [],
   "source": [
    "# Computer Programming: 2021 SPRING BLOCK2 01 IND 3145 - Block Project\n",
    "# Name: David Paul Wanjala\n",
    "# Collaborators: None\n",
    "# Time: around 40 hours"
   ],
   "metadata": {
    "collapsed": false,
    "pycharm": {
     "name": "#%%\n"
    }
   }
  },
  {
   "cell_type": "markdown",
   "source": [
    "# Understanding Artificial Neural Networks\n",
    "#### Presenter: Davidpaul(DP) Wanjala"
   ],
   "metadata": {
    "collapsed": false
   }
  },
  {
   "cell_type": "markdown",
   "metadata": {
    "pycharm": {
     "name": "#%% md\n"
    },
    "slideshow": {
     "slide_type": "slide"
    }
   },
   "source": [
    "## What is Intelligence?\n",
    "\n",
    "Intelligence is the ability to accomplish complex goals.\n",
    "— (Max Tegmark, 2017)\n",
    "\n",
    "\n",
    "Artificial Intelligence = Non-biological intelligence."
   ]
  },
  {
   "cell_type": "markdown",
   "metadata": {
    "pycharm": {
     "name": "#%% md\n"
    },
    "slideshow": {
     "slide_type": "slide"
    }
   },
   "source": [
    "## How can Intelligence arise from seemingly dumb, physical matter?\n",
    "\n",
    "* Memory\n",
    "* Computation\n",
    "* Learning"
   ]
  },
  {
   "cell_type": "markdown",
   "metadata": {
    "pycharm": {
     "name": "#%% md\n"
    },
    "slideshow": {
     "slide_type": "slide"
    }
   },
   "source": [
    "## What is Machine Learning?\n",
    "\n",
    "A computer program is said to learn from experience E with respect to\n",
    "some task T and some performance measure P, if its performance on T,\n",
    "as measured by P, improves with experience E.\n",
    "\n",
    "—Tom Mitchell, 1997"
   ]
  },
  {
   "cell_type": "markdown",
   "metadata": {},
   "source": [
    "## Ways a machine could learn based on who is providing supervision\n",
    "* Supervised learning\n",
    "* Unsupervised learning\n",
    "* Semisupervised learning\n",
    "* Reinforcement learning"
   ]
  },
  {
   "cell_type": "markdown",
   "metadata": {
    "pycharm": {
     "name": "#%% md\n"
    },
    "slideshow": {
     "slide_type": "slide"
    }
   },
   "source": [
    "## Limitations of the traditional approach of programming\n",
    "* Problems requiring many fine-tuning or long lists of rules\n",
    "* Problems we don't know how to solve yet and therefore can't program\n",
    "* Constantly changing environments\n",
    "* Extracting insights from large volumes of data\n"
   ]
  },
  {
   "cell_type": "markdown",
   "metadata": {
    "pycharm": {
     "name": "#%% md\n"
    },
    "slideshow": {
     "slide_type": "slide"
    }
   },
   "source": [
    "# step 1: Import external modules"
   ]
  },
  {
   "cell_type": "code",
   "execution_count": 2,
   "metadata": {
    "pycharm": {
     "name": "#%%\n"
    },
    "slideshow": {
     "slide_type": "subslide"
    }
   },
   "outputs": [],
   "source": [
    "import os # efficiently create folders\n",
    "import tensorflow as tf # help us architecture, build, train and evaluate machine learning algorithms\n",
    "from tensorflow import keras # higher level api to interact with tensorflow\n",
    "import matplotlib as mpl # visualization of data\n",
    "import matplotlib.pyplot as plt # visualization of data\n",
    "import pandas as pd # explore, clean, and process tabular data\n",
    "import numpy as np # efficiently work with multidimensional arrays"
   ]
  },
  {
   "cell_type": "markdown",
   "metadata": {
    "pycharm": {
     "name": "#%% md\n"
    },
    "slideshow": {
     "slide_type": "slide"
    }
   },
   "source": [
    "# step 2: Retrieve a dataset of images to use"
   ]
  },
  {
   "cell_type": "code",
   "execution_count": 3,
   "metadata": {
    "pycharm": {
     "name": "#%%\n"
    },
    "slideshow": {
     "slide_type": "subslide"
    }
   },
   "outputs": [],
   "source": [
    "fashion_mnist_dataset = keras.datasets.fashion_mnist\n",
    "(X_train_full, y_train_full), (X_test_full, y_test_full) = fashion_mnist_dataset.load_data()"
   ]
  },
  {
   "cell_type": "markdown",
   "metadata": {
    "pycharm": {
     "name": "#%% md\n"
    },
    "slideshow": {
     "slide_type": "slide"
    }
   },
   "source": [
    "# step 3: Peak into our dataset"
   ]
  },
  {
   "cell_type": "code",
   "execution_count": 4,
   "metadata": {
    "pycharm": {
     "name": "#%%\n"
    },
    "slideshow": {
     "slide_type": "subslide"
    }
   },
   "outputs": [
    {
     "data": {
      "text/plain": [
       "(60000, 28, 28)"
      ]
     },
     "execution_count": 4,
     "metadata": {},
     "output_type": "execute_result"
    }
   ],
   "source": [
    "X_train_full.shape"
   ]
  },
  {
   "cell_type": "code",
   "execution_count": 5,
   "metadata": {
    "pycharm": {
     "name": "#%%\n"
    },
    "slideshow": {
     "slide_type": "subslide"
    }
   },
   "outputs": [
    {
     "data": {
      "text/plain": [
       "array([[  0,   0,   0,   0,   0,   0,   0,   0,   0,   0,   0,   0,   0,\n",
       "          0,   0,   0,   0,   0,   0,   0,   0,   0,   0,   0,   0,   0,\n",
       "          0,   0],\n",
       "       [  0,   0,   0,   0,   0,   0,   0,   0,   0,   0,   0,   0,   0,\n",
       "          0,   0,   0,   0,   0,   0,   0,   0,   0,   0,   0,   0,   0,\n",
       "          0,   0],\n",
       "       [  0,   0,   0,   0,   0,   0,   0,   0,   0,   0,   0,   0,   0,\n",
       "          0,   0,   0,   0,   0,   0,   0,   0,   0,   0,   0,   0,   0,\n",
       "          0,   0],\n",
       "       [  0,   0,   0,   0,   0,   0,   0,   0,   0,   0,   0,   0,   1,\n",
       "          0,   0,  13,  73,   0,   0,   1,   4,   0,   0,   0,   0,   1,\n",
       "          1,   0],\n",
       "       [  0,   0,   0,   0,   0,   0,   0,   0,   0,   0,   0,   0,   3,\n",
       "          0,  36, 136, 127,  62,  54,   0,   0,   0,   1,   3,   4,   0,\n",
       "          0,   3],\n",
       "       [  0,   0,   0,   0,   0,   0,   0,   0,   0,   0,   0,   0,   6,\n",
       "          0, 102, 204, 176, 134, 144, 123,  23,   0,   0,   0,   0,  12,\n",
       "         10,   0],\n",
       "       [  0,   0,   0,   0,   0,   0,   0,   0,   0,   0,   0,   0,   0,\n",
       "          0, 155, 236, 207, 178, 107, 156, 161, 109,  64,  23,  77, 130,\n",
       "         72,  15],\n",
       "       [  0,   0,   0,   0,   0,   0,   0,   0,   0,   0,   0,   1,   0,\n",
       "         69, 207, 223, 218, 216, 216, 163, 127, 121, 122, 146, 141,  88,\n",
       "        172,  66],\n",
       "       [  0,   0,   0,   0,   0,   0,   0,   0,   0,   1,   1,   1,   0,\n",
       "        200, 232, 232, 233, 229, 223, 223, 215, 213, 164, 127, 123, 196,\n",
       "        229,   0],\n",
       "       [  0,   0,   0,   0,   0,   0,   0,   0,   0,   0,   0,   0,   0,\n",
       "        183, 225, 216, 223, 228, 235, 227, 224, 222, 224, 221, 223, 245,\n",
       "        173,   0],\n",
       "       [  0,   0,   0,   0,   0,   0,   0,   0,   0,   0,   0,   0,   0,\n",
       "        193, 228, 218, 213, 198, 180, 212, 210, 211, 213, 223, 220, 243,\n",
       "        202,   0],\n",
       "       [  0,   0,   0,   0,   0,   0,   0,   0,   0,   1,   3,   0,  12,\n",
       "        219, 220, 212, 218, 192, 169, 227, 208, 218, 224, 212, 226, 197,\n",
       "        209,  52],\n",
       "       [  0,   0,   0,   0,   0,   0,   0,   0,   0,   0,   6,   0,  99,\n",
       "        244, 222, 220, 218, 203, 198, 221, 215, 213, 222, 220, 245, 119,\n",
       "        167,  56],\n",
       "       [  0,   0,   0,   0,   0,   0,   0,   0,   0,   4,   0,   0,  55,\n",
       "        236, 228, 230, 228, 240, 232, 213, 218, 223, 234, 217, 217, 209,\n",
       "         92,   0],\n",
       "       [  0,   0,   1,   4,   6,   7,   2,   0,   0,   0,   0,   0, 237,\n",
       "        226, 217, 223, 222, 219, 222, 221, 216, 223, 229, 215, 218, 255,\n",
       "         77,   0],\n",
       "       [  0,   3,   0,   0,   0,   0,   0,   0,   0,  62, 145, 204, 228,\n",
       "        207, 213, 221, 218, 208, 211, 218, 224, 223, 219, 215, 224, 244,\n",
       "        159,   0],\n",
       "       [  0,   0,   0,   0,  18,  44,  82, 107, 189, 228, 220, 222, 217,\n",
       "        226, 200, 205, 211, 230, 224, 234, 176, 188, 250, 248, 233, 238,\n",
       "        215,   0],\n",
       "       [  0,  57, 187, 208, 224, 221, 224, 208, 204, 214, 208, 209, 200,\n",
       "        159, 245, 193, 206, 223, 255, 255, 221, 234, 221, 211, 220, 232,\n",
       "        246,   0],\n",
       "       [  3, 202, 228, 224, 221, 211, 211, 214, 205, 205, 205, 220, 240,\n",
       "         80, 150, 255, 229, 221, 188, 154, 191, 210, 204, 209, 222, 228,\n",
       "        225,   0],\n",
       "       [ 98, 233, 198, 210, 222, 229, 229, 234, 249, 220, 194, 215, 217,\n",
       "        241,  65,  73, 106, 117, 168, 219, 221, 215, 217, 223, 223, 224,\n",
       "        229,  29],\n",
       "       [ 75, 204, 212, 204, 193, 205, 211, 225, 216, 185, 197, 206, 198,\n",
       "        213, 240, 195, 227, 245, 239, 223, 218, 212, 209, 222, 220, 221,\n",
       "        230,  67],\n",
       "       [ 48, 203, 183, 194, 213, 197, 185, 190, 194, 192, 202, 214, 219,\n",
       "        221, 220, 236, 225, 216, 199, 206, 186, 181, 177, 172, 181, 205,\n",
       "        206, 115],\n",
       "       [  0, 122, 219, 193, 179, 171, 183, 196, 204, 210, 213, 207, 211,\n",
       "        210, 200, 196, 194, 191, 195, 191, 198, 192, 176, 156, 167, 177,\n",
       "        210,  92],\n",
       "       [  0,   0,  74, 189, 212, 191, 175, 172, 175, 181, 185, 188, 189,\n",
       "        188, 193, 198, 204, 209, 210, 210, 211, 188, 188, 194, 192, 216,\n",
       "        170,   0],\n",
       "       [  2,   0,   0,   0,  66, 200, 222, 237, 239, 242, 246, 243, 244,\n",
       "        221, 220, 193, 191, 179, 182, 182, 181, 176, 166, 168,  99,  58,\n",
       "          0,   0],\n",
       "       [  0,   0,   0,   0,   0,   0,   0,  40,  61,  44,  72,  41,  35,\n",
       "          0,   0,   0,   0,   0,   0,   0,   0,   0,   0,   0,   0,   0,\n",
       "          0,   0],\n",
       "       [  0,   0,   0,   0,   0,   0,   0,   0,   0,   0,   0,   0,   0,\n",
       "          0,   0,   0,   0,   0,   0,   0,   0,   0,   0,   0,   0,   0,\n",
       "          0,   0],\n",
       "       [  0,   0,   0,   0,   0,   0,   0,   0,   0,   0,   0,   0,   0,\n",
       "          0,   0,   0,   0,   0,   0,   0,   0,   0,   0,   0,   0,   0,\n",
       "          0,   0]], dtype=uint8)"
      ]
     },
     "execution_count": 5,
     "metadata": {},
     "output_type": "execute_result"
    }
   ],
   "source": [
    "X_train_full[0]"
   ]
  },
  {
   "cell_type": "code",
   "execution_count": 6,
   "metadata": {
    "pycharm": {
     "name": "#%%\n"
    },
    "slideshow": {
     "slide_type": "subslide"
    }
   },
   "outputs": [
    {
     "data": {
      "text/plain": [
       "array([0, 0, 0, 0, 0, 0, 0, 0, 0, 0, 0, 0, 0, 0, 0, 0, 0, 0, 0, 0, 0, 0,\n",
       "       0, 0, 0, 0, 0, 0], dtype=uint8)"
      ]
     },
     "execution_count": 6,
     "metadata": {},
     "output_type": "execute_result"
    }
   ],
   "source": [
    "X_train_full[0,0]"
   ]
  },
  {
   "cell_type": "code",
   "execution_count": 7,
   "metadata": {
    "pycharm": {
     "name": "#%%\n"
    },
    "slideshow": {
     "slide_type": "subslide"
    }
   },
   "outputs": [
    {
     "data": {
      "text/plain": [
       "0"
      ]
     },
     "execution_count": 7,
     "metadata": {},
     "output_type": "execute_result"
    }
   ],
   "source": [
    "X_train_full[0,0,0]"
   ]
  },
  {
   "cell_type": "code",
   "execution_count": 8,
   "metadata": {
    "pycharm": {
     "name": "#%%\n"
    },
    "slideshow": {
     "slide_type": "subslide"
    }
   },
   "outputs": [
    {
     "name": "stdout",
     "output_type": "stream",
     "text": [
      "    0    1    2    3    4    5    6    7    8    9   ...   18   19   20   21  \\\n",
      "0    0    0    0    0    0    0    0    0    0    0  ...    0    0    0    0   \n",
      "1    0    0    0    0    0    0    0    0    0    0  ...    0    0    0    0   \n",
      "2    0    0    0    0    0    0    0    0    0    0  ...    0    0    0    0   \n",
      "3    0    0    0    0    0    0    0    0    0    0  ...    0    1    4    0   \n",
      "4    0    0    0    0    0    0    0    0    0    0  ...   54    0    0    0   \n",
      "5    0    0    0    0    0    0    0    0    0    0  ...  144  123   23    0   \n",
      "6    0    0    0    0    0    0    0    0    0    0  ...  107  156  161  109   \n",
      "7    0    0    0    0    0    0    0    0    0    0  ...  216  163  127  121   \n",
      "8    0    0    0    0    0    0    0    0    0    1  ...  223  223  215  213   \n",
      "9    0    0    0    0    0    0    0    0    0    0  ...  235  227  224  222   \n",
      "10   0    0    0    0    0    0    0    0    0    0  ...  180  212  210  211   \n",
      "11   0    0    0    0    0    0    0    0    0    1  ...  169  227  208  218   \n",
      "12   0    0    0    0    0    0    0    0    0    0  ...  198  221  215  213   \n",
      "13   0    0    0    0    0    0    0    0    0    4  ...  232  213  218  223   \n",
      "14   0    0    1    4    6    7    2    0    0    0  ...  222  221  216  223   \n",
      "15   0    3    0    0    0    0    0    0    0   62  ...  211  218  224  223   \n",
      "16   0    0    0    0   18   44   82  107  189  228  ...  224  234  176  188   \n",
      "17   0   57  187  208  224  221  224  208  204  214  ...  255  255  221  234   \n",
      "18   3  202  228  224  221  211  211  214  205  205  ...  188  154  191  210   \n",
      "19  98  233  198  210  222  229  229  234  249  220  ...  168  219  221  215   \n",
      "20  75  204  212  204  193  205  211  225  216  185  ...  239  223  218  212   \n",
      "21  48  203  183  194  213  197  185  190  194  192  ...  199  206  186  181   \n",
      "22   0  122  219  193  179  171  183  196  204  210  ...  195  191  198  192   \n",
      "23   0    0   74  189  212  191  175  172  175  181  ...  210  210  211  188   \n",
      "24   2    0    0    0   66  200  222  237  239  242  ...  182  182  181  176   \n",
      "25   0    0    0    0    0    0    0   40   61   44  ...    0    0    0    0   \n",
      "26   0    0    0    0    0    0    0    0    0    0  ...    0    0    0    0   \n",
      "27   0    0    0    0    0    0    0    0    0    0  ...    0    0    0    0   \n",
      "\n",
      "     22   23   24   25   26   27  \n",
      "0     0    0    0    0    0    0  \n",
      "1     0    0    0    0    0    0  \n",
      "2     0    0    0    0    0    0  \n",
      "3     0    0    0    1    1    0  \n",
      "4     1    3    4    0    0    3  \n",
      "5     0    0    0   12   10    0  \n",
      "6    64   23   77  130   72   15  \n",
      "7   122  146  141   88  172   66  \n",
      "8   164  127  123  196  229    0  \n",
      "9   224  221  223  245  173    0  \n",
      "10  213  223  220  243  202    0  \n",
      "11  224  212  226  197  209   52  \n",
      "12  222  220  245  119  167   56  \n",
      "13  234  217  217  209   92    0  \n",
      "14  229  215  218  255   77    0  \n",
      "15  219  215  224  244  159    0  \n",
      "16  250  248  233  238  215    0  \n",
      "17  221  211  220  232  246    0  \n",
      "18  204  209  222  228  225    0  \n",
      "19  217  223  223  224  229   29  \n",
      "20  209  222  220  221  230   67  \n",
      "21  177  172  181  205  206  115  \n",
      "22  176  156  167  177  210   92  \n",
      "23  188  194  192  216  170    0  \n",
      "24  166  168   99   58    0    0  \n",
      "25    0    0    0    0    0    0  \n",
      "26    0    0    0    0    0    0  \n",
      "27    0    0    0    0    0    0  \n",
      "\n",
      "[28 rows x 28 columns]\n"
     ]
    }
   ],
   "source": [
    "# visualize a single 28 by 28 pixel image using pandas dataframe\n",
    "\n",
    "df = pd.DataFrame(X_train_full[0], columns = [column for column in range(28)])\n",
    "print(df)\n"
   ]
  },
  {
   "cell_type": "code",
   "execution_count": 9,
   "metadata": {
    "pycharm": {
     "name": "#%%\n"
    },
    "slideshow": {
     "slide_type": "subslide"
    }
   },
   "outputs": [
    {
     "data": {
      "image/png": "[encoded data removed]",
      "text/plain": [
       "<Figure size 432x288 with 1 Axes>"
      ]
     },
     "metadata": {
      "needs_background": "light"
     },
     "output_type": "display_data"
    }
   ],
   "source": [
    "# we can even do better and visualize the same image with matplotlib\n",
    "plt.imshow(X_train_full[0], cmap=\"binary\")\n",
    "plt.axis('off')\n",
    "plt.show()\n"
   ]
  },
  {
   "cell_type": "code",
   "execution_count": 10,
   "metadata": {
    "pycharm": {
     "name": "#%%\n"
    },
    "slideshow": {
     "slide_type": "subslide"
    }
   },
   "outputs": [],
   "source": [
    "# | Label | Description |\n",
    "#   |:-----:|-------------|\n",
    "#   |   0   | T-shirt/top |\n",
    "#   |   1   | Trouser     |\n",
    "#   |   2   | Pullover    |\n",
    "#   |   3   | Dress       |\n",
    "#   |   4   | Coat        |\n",
    "#   |   5   | Sandal      |\n",
    "#   |   6   | Shirt       |\n",
    "#   |   7   | Sneaker     |\n",
    "#   |   8   | Bag         |\n",
    "#   |   9   | Ankle boot  |\n",
    "\n",
    "fashion_class_names = [\"T-shirt/top\", \"Trouser\", \"Pullover\", \"Dress\", \"Coat\", \"Sandal\", \"Shirt\", \"Sneaker\",\"Bag\", \"Ankle boot\"]"
   ]
  },
  {
   "cell_type": "code",
   "execution_count": 11,
   "metadata": {
    "pycharm": {
     "name": "#%%\n"
    },
    "slideshow": {
     "slide_type": "subslide"
    }
   },
   "outputs": [
    {
     "data": {
      "text/plain": [
       "'Ankle boot'"
      ]
     },
     "execution_count": 11,
     "metadata": {},
     "output_type": "execute_result"
    }
   ],
   "source": [
    "# check the associated label for this image\n",
    "fashion_class_names[y_train_full[0]]"
   ]
  },
  {
   "cell_type": "code",
   "execution_count": 12,
   "metadata": {
    "pycharm": {
     "name": "#%%\n"
    },
    "slideshow": {
     "slide_type": "subslide"
    }
   },
   "outputs": [
    {
     "data": {
      "text/plain": [
       "(60000,)"
      ]
     },
     "execution_count": 12,
     "metadata": {},
     "output_type": "execute_result"
    }
   ],
   "source": [
    "# the label is just a one dimensional array whose indices correspond to an image in the x_train dataset and the\n",
    "# value of this array can take a number between 0 and 9 corresponding to one of those classes and thus we\n",
    "# say that our dataset is labeled\n",
    "y_train_full.shape"
   ]
  },
  {
   "cell_type": "code",
   "execution_count": 13,
   "metadata": {
    "pycharm": {
     "name": "#%%\n"
    },
    "slideshow": {
     "slide_type": "subslide"
    }
   },
   "outputs": [
    {
     "data": {
      "text/plain": [
       "(10000, 28, 28)"
      ]
     },
     "execution_count": 13,
     "metadata": {},
     "output_type": "execute_result"
    }
   ],
   "source": [
    "# our training set is organised the same way just that it has 10k images, in machine learning the convention\n",
    "# is to have a larger dataset that you train your model on and a smaller set which the model will not\n",
    "# have access to while it train and only after it has finished we will test it using test data and see\n",
    "# how well it performs.\n",
    "X_test_full.shape"
   ]
  },
  {
   "cell_type": "code",
   "execution_count": 14,
   "metadata": {
    "pycharm": {
     "name": "#%%\n"
    },
    "scrolled": true,
    "slideshow": {
     "slide_type": "subslide"
    }
   },
   "outputs": [
    {
     "data": {
      "image/png": "[encoded data removed]",
      "text/plain": [
       "<Figure size 1008x302.4 with 30 Axes>"
      ]
     },
     "metadata": {
      "needs_background": "light"
     },
     "output_type": "display_data"
    }
   ],
   "source": [
    "# here i just wanted to show you a sample of the variety of images in the dataset\n",
    "num_cols = 10\n",
    "num_rows = 3\n",
    "plt.figure(figsize=(num_cols * 1.4, num_rows * 1.4))\n",
    "for row in range(num_rows):\n",
    "    for col in range(num_cols):\n",
    "        index = num_cols * row + col\n",
    "        plt.subplot(num_rows, num_cols, index + 1)\n",
    "        plt.imshow(X_train_full[index], cmap=\"binary\", interpolation=\"nearest\")\n",
    "        plt.axis('off')\n",
    "        plt.title(fashion_class_names[y_train_full[index]], fontsize=12)\n",
    "plt.subplots_adjust(wspace=0.1, hspace=0.5)\n",
    "plt.show()"
   ]
  },
  {
   "cell_type": "markdown",
   "metadata": {
    "pycharm": {
     "name": "#%% md\n"
    },
    "slideshow": {
     "slide_type": "slide"
    }
   },
   "source": [
    "# step 4: Preprocess our dataset\n",
    "* peak into a single digit representation\n",
    "* change the intensity representation of our dataset and split further into validation set\n",
    "* peak into the new digit representation\n",
    "* plot a single image"
   ]
  },
  {
   "cell_type": "code",
   "execution_count": 15,
   "metadata": {
    "pycharm": {
     "name": "#%%\n"
    },
    "slideshow": {
     "slide_type": "subslide"
    }
   },
   "outputs": [
    {
     "name": "stdout",
     "output_type": "stream",
     "text": [
      "          0         1         2         3         4         5         6   \\\n",
      "0   0.000000  0.000000  0.000000  0.000000  0.000000  0.000000  0.000000   \n",
      "1   0.000000  0.000000  0.000000  0.000000  0.000000  0.000000  0.000000   \n",
      "2   0.000000  0.000000  0.000000  0.000000  0.000000  0.000000  0.000000   \n",
      "3   0.000000  0.000000  0.000000  0.000000  0.000000  0.000000  0.000000   \n",
      "4   0.000000  0.000000  0.000000  0.000000  0.000000  0.000000  0.000000   \n",
      "5   0.000000  0.000000  0.000000  0.000000  0.000000  0.000000  0.000000   \n",
      "6   0.000000  0.000000  0.000000  0.000000  0.000000  0.000000  0.000000   \n",
      "7   0.000000  0.000000  0.000000  0.000000  0.000000  0.000000  0.000000   \n",
      "8   0.000000  0.000000  0.000000  0.000000  0.000000  0.000000  0.000000   \n",
      "9   0.000000  0.000000  0.000000  0.000000  0.000000  0.000000  0.000000   \n",
      "10  0.000000  0.000000  0.000000  0.000000  0.000000  0.000000  0.000000   \n",
      "11  0.000000  0.000000  0.000000  0.000000  0.000000  0.000000  0.000000   \n",
      "12  0.000000  0.000000  0.000000  0.000000  0.000000  0.000000  0.000000   \n",
      "13  0.000000  0.000000  0.000000  0.000000  0.000000  0.000000  0.000000   \n",
      "14  0.000000  0.000000  0.003922  0.015686  0.023529  0.027451  0.007843   \n",
      "15  0.000000  0.011765  0.000000  0.000000  0.000000  0.000000  0.000000   \n",
      "16  0.000000  0.000000  0.000000  0.000000  0.070588  0.172549  0.321569   \n",
      "17  0.000000  0.223529  0.733333  0.815686  0.878431  0.866667  0.878431   \n",
      "18  0.011765  0.792157  0.894118  0.878431  0.866667  0.827451  0.827451   \n",
      "19  0.384314  0.913725  0.776471  0.823529  0.870588  0.898039  0.898039   \n",
      "20  0.294118  0.800000  0.831373  0.800000  0.756863  0.803922  0.827451   \n",
      "21  0.188235  0.796078  0.717647  0.760784  0.835294  0.772549  0.725490   \n",
      "22  0.000000  0.478431  0.858824  0.756863  0.701961  0.670588  0.717647   \n",
      "23  0.000000  0.000000  0.290196  0.741176  0.831373  0.749020  0.686275   \n",
      "24  0.007843  0.000000  0.000000  0.000000  0.258824  0.784314  0.870588   \n",
      "25  0.000000  0.000000  0.000000  0.000000  0.000000  0.000000  0.000000   \n",
      "26  0.000000  0.000000  0.000000  0.000000  0.000000  0.000000  0.000000   \n",
      "27  0.000000  0.000000  0.000000  0.000000  0.000000  0.000000  0.000000   \n",
      "\n",
      "          7         8         9   ...        18        19        20        21  \\\n",
      "0   0.000000  0.000000  0.000000  ...  0.000000  0.000000  0.000000  0.000000   \n",
      "1   0.000000  0.000000  0.000000  ...  0.000000  0.000000  0.000000  0.000000   \n",
      "2   0.000000  0.000000  0.000000  ...  0.000000  0.000000  0.000000  0.000000   \n",
      "3   0.000000  0.000000  0.000000  ...  0.000000  0.003922  0.015686  0.000000   \n",
      "4   0.000000  0.000000  0.000000  ...  0.211765  0.000000  0.000000  0.000000   \n",
      "5   0.000000  0.000000  0.000000  ...  0.564706  0.482353  0.090196  0.000000   \n",
      "6   0.000000  0.000000  0.000000  ...  0.419608  0.611765  0.631373  0.427451   \n",
      "7   0.000000  0.000000  0.000000  ...  0.847059  0.639216  0.498039  0.474510   \n",
      "8   0.000000  0.000000  0.003922  ...  0.874510  0.874510  0.843137  0.835294   \n",
      "9   0.000000  0.000000  0.000000  ...  0.921569  0.890196  0.878431  0.870588   \n",
      "10  0.000000  0.000000  0.000000  ...  0.705882  0.831373  0.823529  0.827451   \n",
      "11  0.000000  0.000000  0.003922  ...  0.662745  0.890196  0.815686  0.854902   \n",
      "12  0.000000  0.000000  0.000000  ...  0.776471  0.866667  0.843137  0.835294   \n",
      "13  0.000000  0.000000  0.015686  ...  0.909804  0.835294  0.854902  0.874510   \n",
      "14  0.000000  0.000000  0.000000  ...  0.870588  0.866667  0.847059  0.874510   \n",
      "15  0.000000  0.000000  0.243137  ...  0.827451  0.854902  0.878431  0.874510   \n",
      "16  0.419608  0.741176  0.894118  ...  0.878431  0.917647  0.690196  0.737255   \n",
      "17  0.815686  0.800000  0.839216  ...  1.000000  1.000000  0.866667  0.917647   \n",
      "18  0.839216  0.803922  0.803922  ...  0.737255  0.603922  0.749020  0.823529   \n",
      "19  0.917647  0.976471  0.862745  ...  0.658824  0.858824  0.866667  0.843137   \n",
      "20  0.882353  0.847059  0.725490  ...  0.937255  0.874510  0.854902  0.831373   \n",
      "21  0.745098  0.760784  0.752941  ...  0.780392  0.807843  0.729412  0.709804   \n",
      "22  0.768627  0.800000  0.823529  ...  0.764706  0.749020  0.776471  0.752941   \n",
      "23  0.674510  0.686275  0.709804  ...  0.823529  0.823529  0.827451  0.737255   \n",
      "24  0.929412  0.937255  0.949020  ...  0.713725  0.713725  0.709804  0.690196   \n",
      "25  0.156863  0.239216  0.172549  ...  0.000000  0.000000  0.000000  0.000000   \n",
      "26  0.000000  0.000000  0.000000  ...  0.000000  0.000000  0.000000  0.000000   \n",
      "27  0.000000  0.000000  0.000000  ...  0.000000  0.000000  0.000000  0.000000   \n",
      "\n",
      "          22        23        24        25        26        27  \n",
      "0   0.000000  0.000000  0.000000  0.000000  0.000000  0.000000  \n",
      "1   0.000000  0.000000  0.000000  0.000000  0.000000  0.000000  \n",
      "2   0.000000  0.000000  0.000000  0.000000  0.000000  0.000000  \n",
      "3   0.000000  0.000000  0.000000  0.003922  0.003922  0.000000  \n",
      "4   0.003922  0.011765  0.015686  0.000000  0.000000  0.011765  \n",
      "5   0.000000  0.000000  0.000000  0.047059  0.039216  0.000000  \n",
      "6   0.250980  0.090196  0.301961  0.509804  0.282353  0.058824  \n",
      "7   0.478431  0.572549  0.552941  0.345098  0.674510  0.258824  \n",
      "8   0.643137  0.498039  0.482353  0.768627  0.898039  0.000000  \n",
      "9   0.878431  0.866667  0.874510  0.960784  0.678431  0.000000  \n",
      "10  0.835294  0.874510  0.862745  0.952941  0.792157  0.000000  \n",
      "11  0.878431  0.831373  0.886275  0.772549  0.819608  0.203922  \n",
      "12  0.870588  0.862745  0.960784  0.466667  0.654902  0.219608  \n",
      "13  0.917647  0.850980  0.850980  0.819608  0.360784  0.000000  \n",
      "14  0.898039  0.843137  0.854902  1.000000  0.301961  0.000000  \n",
      "15  0.858824  0.843137  0.878431  0.956863  0.623529  0.000000  \n",
      "16  0.980392  0.972549  0.913725  0.933333  0.843137  0.000000  \n",
      "17  0.866667  0.827451  0.862745  0.909804  0.964706  0.000000  \n",
      "18  0.800000  0.819608  0.870588  0.894118  0.882353  0.000000  \n",
      "19  0.850980  0.874510  0.874510  0.878431  0.898039  0.113725  \n",
      "20  0.819608  0.870588  0.862745  0.866667  0.901961  0.262745  \n",
      "21  0.694118  0.674510  0.709804  0.803922  0.807843  0.450980  \n",
      "22  0.690196  0.611765  0.654902  0.694118  0.823529  0.360784  \n",
      "23  0.737255  0.760784  0.752941  0.847059  0.666667  0.000000  \n",
      "24  0.650980  0.658824  0.388235  0.227451  0.000000  0.000000  \n",
      "25  0.000000  0.000000  0.000000  0.000000  0.000000  0.000000  \n",
      "26  0.000000  0.000000  0.000000  0.000000  0.000000  0.000000  \n",
      "27  0.000000  0.000000  0.000000  0.000000  0.000000  0.000000  \n",
      "\n",
      "[28 rows x 28 columns]\n"
     ]
    }
   ],
   "source": [
    "# remember the dataset we retrieved from the internet was split into two\n",
    "# (X_train_full, y_train_full), (X_test_full, y_test_full)\n",
    "# and each pixel intensity was a number between 0 and 255\n",
    "# we are going to change that\n",
    "\n",
    "X_valid, X_train = X_train_full[:5000] / 255., X_train_full[5000:] / 255.\n",
    "y_valid, y_train = y_train_full[:5000], y_train_full[5000:]\n",
    "X_test = X_test_full / 255.0\n",
    "\n",
    "# visualize a single 28 by 28 pixel image using pandas dataframe\n",
    "\n",
    "df = pd.DataFrame(X_valid[0], columns = [column for column in range(28)])\n",
    "print(df)"
   ]
  },
  {
   "cell_type": "code",
   "execution_count": 16,
   "metadata": {
    "pycharm": {
     "name": "#%%\n"
    },
    "slideshow": {
     "slide_type": "subslide"
    }
   },
   "outputs": [
    {
     "data": {
      "image/png": "[encoded data removed]",
      "text/plain": [
       "<Figure size 432x288 with 1 Axes>"
      ]
     },
     "metadata": {
      "needs_background": "light"
     },
     "output_type": "display_data"
    }
   ],
   "source": [
    "plt.imshow(X_valid[0], cmap=\"binary\")\n",
    "plt.axis('off')\n",
    "plt.title(fashion_class_names[y_valid[0]], fontsize=12)\n",
    "plt.show()"
   ]
  },
  {
   "cell_type": "markdown",
   "metadata": {
    "pycharm": {
     "name": "#%% md\n"
    },
    "slideshow": {
     "slide_type": "slide"
    }
   },
   "source": [
    "# step 5: Visualize the architecture of the neural network we are going to build"
   ]
  },
  {
   "cell_type": "markdown",
   "metadata": {
    "pycharm": {
     "name": "#%% md\n"
    },
    "slideshow": {
     "slide_type": "subslide"
    }
   },
   "source": [
    "Biological neuron\n",
    "![](https://firebasestorage.googleapis.com/v0/b/firescript-577a2.appspot.com/o/imgs%2Fapp%2Fdpwanjala%2FSicq6zN28f.png?alt=media&token=485ec334-2df5-41ae-84f3-c553736af937)\n",
    "(Géron Aurélien,  2019)"
   ]
  },
  {
   "cell_type": "markdown",
   "metadata": {
    "slideshow": {
     "slide_type": "subslide"
    }
   },
   "source": [
    "Biological neurons are often organized in consecutive layers, especially in cerebral cortex\n",
    "![](https://firebasestorage.googleapis.com/v0/b/firescript-577a2.appspot.com/o/imgs%2Fapp%2Fdpwanjala%2FD5YRY01U9o.png?alt=media&token=756325fa-6d8f-42f9-93fe-a8aa384734dd)"
   ]
  },
  {
   "cell_type": "markdown",
   "metadata": {
    "slideshow": {
     "slide_type": "subslide"
    }
   },
   "source": [
    "A network of neurons can compute function just as a network of NAND gates can\n",
    "![](https://firebasestorage.googleapis.com/v0/b/firescript-577a2.appspot.com/o/imgs%2Fapp%2Fdpwanjala%2FrtUju-sw1r.png?alt=media&token=2c1aa9c4-fa58-4cf6-8670-c3c2c5d35f1e)"
   ]
  },
  {
   "cell_type": "markdown",
   "metadata": {
    "slideshow": {
     "slide_type": "subslide"
    }
   },
   "source": [
    "A perceptron\n",
    "![](https://firebasestorage.googleapis.com/v0/b/firescript-577a2.appspot.com/o/imgs%2Fapp%2Fdpwanjala%2FAG1a_mlHEU.png?alt=media&token=6a5fba3b-5038-49ce-a037-02f840a6f79a)\n",
    "(Géron Aurélien,  2019)"
   ]
  },
  {
   "cell_type": "markdown",
   "metadata": {
    "slideshow": {
     "slide_type": "subslide"
    }
   },
   "source": [
    "A multilayer perceptron\n",
    "![](https://firebasestorage.googleapis.com/v0/b/firescript-577a2.appspot.com/o/imgs%2Fapp%2Fdpwanjala%2FVniPVnSeUY.png?alt=media&token=d1608060-59e2-4709-8f07-176c2843aabc)\n",
    "(Géron Aurélien,  2019)"
   ]
  },
  {
   "cell_type": "markdown",
   "metadata": {
    "pycharm": {
     "name": "#%% md\n"
    },
    "slideshow": {
     "slide_type": "slide"
    }
   },
   "source": [
    "# step 6: Specify the neural network architecture and compile the model"
   ]
  },
  {
   "cell_type": "code",
   "execution_count": 17,
   "metadata": {
    "pycharm": {
     "name": "#%%\n"
    },
    "slideshow": {
     "slide_type": "subslide"
    }
   },
   "outputs": [],
   "source": [
    "# 1. create the model object using the Sequential API class\n",
    "model = keras.models.Sequential()\n",
    "# 2. specify the input layer\n",
    "model.add(keras.layers.Flatten(input_shape=[28, 28]))\n",
    "# 3. specify a neuron layer\n",
    "model.add(keras.layers.Dense(300, activation=\"relu\"))\n",
    "# 4. specify another neuron layer\n",
    "model.add(keras.layers.Dense(100, activation=\"relu\"))\n",
    "# 5. specify the output layer\n",
    "model.add(keras.layers.Dense(10, activation=\"softmax\"))\n",
    "# 6. compile the model\n",
    "model.compile(loss=\"sparse_categorical_crossentropy\", optimizer=\"sgd\", metrics=[\"accuracy\"])"
   ]
  },
  {
   "cell_type": "markdown",
   "metadata": {
    "pycharm": {
     "is_executing": true,
     "name": "#%% md\n"
    },
    "slideshow": {
     "slide_type": "slide"
    }
   },
   "source": [
    "# step 9: Train our artificial neural network"
   ]
  },
  {
   "cell_type": "code",
   "execution_count": 18,
   "metadata": {
    "pycharm": {
     "name": "#%%\n"
    },
    "scrolled": true,
    "slideshow": {
     "slide_type": "subslide"
    }
   },
   "outputs": [
    {
     "name": "stdout",
     "output_type": "stream",
     "text": [
      "Epoch 1/30\n",
      "1719/1719 [==============================] - 5s 3ms/step - loss: 0.7285 - accuracy: 0.7613 - val_loss: 0.5152 - val_accuracy: 0.8192\n",
      "Epoch 2/30\n",
      "1719/1719 [==============================] - 4s 2ms/step - loss: 0.4888 - accuracy: 0.8300 - val_loss: 0.4590 - val_accuracy: 0.8434\n",
      "Epoch 3/30\n",
      "1719/1719 [==============================] - 4s 3ms/step - loss: 0.4419 - accuracy: 0.8447 - val_loss: 0.4162 - val_accuracy: 0.8538\n",
      "Epoch 4/30\n",
      "1719/1719 [==============================] - 4s 3ms/step - loss: 0.4151 - accuracy: 0.8537 - val_loss: 0.3940 - val_accuracy: 0.8652\n",
      "Epoch 5/30\n",
      "1719/1719 [==============================] - 4s 3ms/step - loss: 0.3935 - accuracy: 0.8620 - val_loss: 0.3745 - val_accuracy: 0.8708\n",
      "Epoch 6/30\n",
      "1719/1719 [==============================] - 4s 2ms/step - loss: 0.3788 - accuracy: 0.8669 - val_loss: 0.3793 - val_accuracy: 0.8674\n",
      "Epoch 7/30\n",
      "1719/1719 [==============================] - 4s 2ms/step - loss: 0.3658 - accuracy: 0.8698 - val_loss: 0.3622 - val_accuracy: 0.8716\n",
      "Epoch 8/30\n",
      "1719/1719 [==============================] - 4s 2ms/step - loss: 0.3542 - accuracy: 0.8752 - val_loss: 0.3520 - val_accuracy: 0.8716\n",
      "Epoch 9/30\n",
      "1719/1719 [==============================] - 4s 2ms/step - loss: 0.3438 - accuracy: 0.8766 - val_loss: 0.3550 - val_accuracy: 0.8744\n",
      "Epoch 10/30\n",
      "1719/1719 [==============================] - 4s 3ms/step - loss: 0.3338 - accuracy: 0.8812 - val_loss: 0.3575 - val_accuracy: 0.8728\n",
      "Epoch 11/30\n",
      "1719/1719 [==============================] - 4s 3ms/step - loss: 0.3257 - accuracy: 0.8831 - val_loss: 0.3414 - val_accuracy: 0.8780\n",
      "Epoch 12/30\n",
      "1719/1719 [==============================] - 4s 2ms/step - loss: 0.3177 - accuracy: 0.8862 - val_loss: 0.3328 - val_accuracy: 0.8798\n",
      "Epoch 13/30\n",
      "1719/1719 [==============================] - 4s 3ms/step - loss: 0.3109 - accuracy: 0.8882 - val_loss: 0.3283 - val_accuracy: 0.8820\n",
      "Epoch 14/30\n",
      "1719/1719 [==============================] - 4s 2ms/step - loss: 0.3029 - accuracy: 0.8915 - val_loss: 0.3221 - val_accuracy: 0.8840\n",
      "Epoch 15/30\n",
      "1719/1719 [==============================] - 4s 2ms/step - loss: 0.2970 - accuracy: 0.8924 - val_loss: 0.3177 - val_accuracy: 0.8882\n",
      "Epoch 16/30\n",
      "1719/1719 [==============================] - 4s 2ms/step - loss: 0.2906 - accuracy: 0.8966 - val_loss: 0.3173 - val_accuracy: 0.8826\n",
      "Epoch 17/30\n",
      "1719/1719 [==============================] - 4s 2ms/step - loss: 0.2846 - accuracy: 0.8975 - val_loss: 0.3166 - val_accuracy: 0.8840\n",
      "Epoch 18/30\n",
      "1719/1719 [==============================] - 4s 3ms/step - loss: 0.2792 - accuracy: 0.8994 - val_loss: 0.3080 - val_accuracy: 0.8900\n",
      "Epoch 19/30\n",
      "1719/1719 [==============================] - 4s 3ms/step - loss: 0.2739 - accuracy: 0.9006 - val_loss: 0.3223 - val_accuracy: 0.8780\n",
      "Epoch 20/30\n",
      "1719/1719 [==============================] - 4s 3ms/step - loss: 0.2681 - accuracy: 0.9029 - val_loss: 0.3016 - val_accuracy: 0.8924\n",
      "Epoch 21/30\n",
      "1719/1719 [==============================] - 4s 2ms/step - loss: 0.2642 - accuracy: 0.9039 - val_loss: 0.3075 - val_accuracy: 0.8896\n",
      "Epoch 22/30\n",
      "1719/1719 [==============================] - 4s 2ms/step - loss: 0.2586 - accuracy: 0.9068 - val_loss: 0.3107 - val_accuracy: 0.8906\n",
      "Epoch 23/30\n",
      "1719/1719 [==============================] - 4s 2ms/step - loss: 0.2537 - accuracy: 0.9089 - val_loss: 0.3022 - val_accuracy: 0.8888\n",
      "Epoch 24/30\n",
      "1719/1719 [==============================] - 4s 3ms/step - loss: 0.2497 - accuracy: 0.9108 - val_loss: 0.2995 - val_accuracy: 0.8896\n",
      "Epoch 25/30\n",
      "1719/1719 [==============================] - 4s 2ms/step - loss: 0.2458 - accuracy: 0.9117 - val_loss: 0.2968 - val_accuracy: 0.8922\n",
      "Epoch 26/30\n",
      "1719/1719 [==============================] - 3s 2ms/step - loss: 0.2417 - accuracy: 0.9124 - val_loss: 0.3029 - val_accuracy: 0.8894\n",
      "Epoch 27/30\n",
      "1719/1719 [==============================] - 4s 2ms/step - loss: 0.2371 - accuracy: 0.9147 - val_loss: 0.3037 - val_accuracy: 0.8912\n",
      "Epoch 28/30\n",
      "1719/1719 [==============================] - 3s 2ms/step - loss: 0.2327 - accuracy: 0.9157 - val_loss: 0.3081 - val_accuracy: 0.8932\n",
      "Epoch 29/30\n",
      "1719/1719 [==============================] - 4s 2ms/step - loss: 0.2299 - accuracy: 0.9167 - val_loss: 0.2889 - val_accuracy: 0.8966\n",
      "Epoch 30/30\n",
      "1719/1719 [==============================] - 4s 2ms/step - loss: 0.2247 - accuracy: 0.9195 - val_loss: 0.3003 - val_accuracy: 0.8880\n"
     ]
    }
   ],
   "source": [
    "history = model.fit(X_train, y_train, epochs=30, validation_data=(X_valid, y_valid))"
   ]
  },
  {
   "cell_type": "markdown",
   "metadata": {
    "pycharm": {
     "name": "#%% md\n"
    },
    "slideshow": {
     "slide_type": "slide"
    }
   },
   "source": [
    "# step 10: assess the progress of our network\n",
    "\n",
    "Is our model learning?\n",
    "* custom visualization  or learning metrics\n",
    "* a more  powerful visualization of the metrics with tensorboard\n"
   ]
  },
  {
   "cell_type": "code",
   "execution_count": 21,
   "metadata": {
    "pycharm": {
     "name": "#%%\n"
    },
    "slideshow": {
     "slide_type": "subslide"
    }
   },
   "outputs": [
    {
     "data": {
      "image/png": "[encoded data removed]",
      "text/plain": [
       "<Figure size 576x360 with 1 Axes>"
      ]
     },
     "metadata": {
      "needs_background": "light"
     },
     "output_type": "display_data"
    }
   ],
   "source": [
    "# custom visualization\n",
    "pd.DataFrame(history.history).plot(figsize=(8, 5))\n",
    "plt.grid(True)\n",
    "plt.gca().set_ylim(0, 1) # set the vertical range to [0-1]\n",
    "plt.show()\n"
   ]
  },
  {
   "cell_type": "markdown",
   "metadata": {
    "pycharm": {
     "is_executing": true,
     "name": "#%% md\n"
    },
    "slideshow": {
     "slide_type": "slide"
    }
   },
   "source": [
    "# step 11: Evaluate our model\n",
    "* how well does our model generalize?"
   ]
  },
  {
   "cell_type": "code",
   "execution_count": 20,
   "metadata": {
    "pycharm": {
     "name": "#%%\n"
    },
    "slideshow": {
     "slide_type": "subslide"
    }
   },
   "outputs": [
    {
     "name": "stdout",
     "output_type": "stream",
     "text": [
      "313/313 [==============================] - 1s 2ms/step - loss: 0.3276 - accuracy: 0.8856\b\b\b\b\b\b\b\b\b\b\b\b\b\b\b\b\b\b\b\b\b\b\b\b\b\b\b\b\b\b\b\b\b\b\b\b\b\b\b\b\b\b\b\b\b\b\b\b\b\b\b\b\b\b\b\b\b\b\b\b\b\b\b\b\b\b\b\b\b\b\b\b\b\b\b\b\b\b\b\b\b\b\b\b\b\b\b\b\b\b\b\b\b\b\b\b\b\b\b\b\b\b\b\b\b\b\b\b\b\b\b\b\b\b\b\b\b\b\b\b\b\b\b\b\b\b\b\b\b\b\b\b\b\b\b\b\b\b\b\b\b\b\b\b\b\b\b\b\b\b\b\b\b\b\b\b\b\b\b\b\b\b\b\b\b\b\b\b\b\b\b\b\b\b\b\b\b\b\b\b\b\b\b\b\b\b\b\b\b\b\b\b\b\b\b\b\b\b\b\b\b\b\b\b\b\b\b\b\b\b\b\b\b\b\b\b\b\b\b\b\b\b\b\b\b\b\b\b\b\b\b\b\b\b\b\b\b\b\b\b\b\b\b\b\b\b\b\b\b\b\b\b\b\b\b\b\b\b\b\b\b\b\b\b\b\b\b\b\b\b\b\b\b\b\b\b\b\b\b\b\b\b\b\b\b\b\b\b\b\b\b\b\b\b\b\b\b\b\b\b\b\b\b\b\b\b\b\b\b\b\b\b\b\b\b\b\b\b\b\b\b\b\b\b\b\b\b\b\b\b\b\b\b\b\b\b\b\b\b\b\b\b\b\b\b\b\b\b\b\b\b\b\b\b\b\b\b\b\b\b\b\b\b\b\b\b\b\b\b\b\b\b\b\b\b\b\b\b\b\b\b\b\b\b\b\b\b\b\b\b\b\b\b\b\b\b\b\b\b\b\b\b\b\b\b\b\b\b\b\b\b\b\b\b\b\b\b\b\b\b\b\b\b\b\b\b\b\b\b\b\b\b\b\b\b\b\b\b\b\b\b\b\b\b\b\b\b\b\b\b\b\b\b\b\b\b\b\b\b\b\b\b\b\b\b\b\b\b\b\b\b\b\b\b\b\b\b\b\b\b\b\b\b\b\b\b\b\b\b\b\b\b\b\b\b\b\b\b\b\b\b\b\b\b\b\b\b\b\b\b\b\b\b\b\b\b\b\b\b\b\b\b\b\b\b\b\b\b\b\b\b\b\b\b\b\b\b\b\b\b\b\b\b\b\b\b\b\b\b\b\b\b\b\b\b\b\b\b\b\b\b\b\b\b\b\b\b\b\b\b\b\b\b\b\b\b\b\b\b\b\b\b\b\b\b\b\b\b\b\b\b\b\b\b\b\b\b\b\b\b\b\b\b\b\b\b\b\b\b\b\b\b\b\b\b\b\b\b\b\b\b\b\b\b\b\b\b\b\b\b\b\b\b\b\b\b\b\b\b\b\b\b\b\b\b\b\b\b\b\b\b\b\b\b\b\b\b\b\b\b\b\b\b\b\b\b\b\b\b\b\b\b\b\b\b\b\b\b\b\b\b\b\b\b\b\b\b\b\b\b\b\b\b\b\b\b\b\b\b\b\b\b\b\b\b\b\b\b\b\b\b\b\b\b\b\b\b\b\b\b\b\b\b\b\b\b\b\b\b\b\b\b\b\b\b\b\b\b\b\b\b\b\b\b\b\b\b\b\b\b\b\b\b\b\b\b\b\b\b\b\b\b\b\b\b\b\b\b\b\b\b\b\b\b\b\b\b\b\b\b\b\b\b\b\b\b\b\b\b\b\b\b\b\b\b\b\b\b\b\b\b\b\b\b\b\b\b\b\b\b\b\b\b\b\b\b\b\b\b\b\b\b\b\b\b\b\b\b\b\b\b\b\b\b\b\b\b\b\b\b\b\b\b\b\b\b\b\b\b\b\b\b\b\b\b\b\b\b\b\b\b\b\b\b\b\b\b\b\b\b\b\b\b\b\b\b\b\b\b\b\b\b\b\b\b\b\b\b\b\b\b\b\b\b\b\b\b\b\b\b\b\b\b\b\b\b\b\b\b\b\b\b\b\b\b\b\b\b\b\b\b\b\b\b\b\b\b\b\b\b\b\b\b\b\b\b\b\b\b\b\b\b\b\b\b\b\b\b\b\b\b\b\b\b\b\b\b\b\b\b\b\b\b\b\b\b\b\b\b\b\b\b\b\b\b\b\b\b\b\b\b\b\b\b\b\b\b\b\b\b\b\b\b\b\b\b\b\b\b\b\b\b\b\b\b\b\b\b\b\b\b\b\b\b\b\b\b\b\b\b\b\b\b\b\b\b\b\b\b\b\b\b\b\b\b\b\b\b\b\b\b\b\b\b\b\b\b\b\b\b\b\b\b\b\b\b\b\b\b\b\b\b\b\b\b\b\b\b\b\b\b\b\b\b\b\b\b\b\b\b\b\b\b\b\b\b\b\b\b\b\b\b\b\b\b\b\b\b\b\b\b\b\b\b\b\b\b\b\b\b\b\b\b\b\b\b\b\b\b\b\b\b\b\b\b\b\b\b\b\b\b\b\b\b\b\b\b\b\b\b\b\b\b\b\b\b\b\b\b\b\b\b\b\b\b\b\b\b\b\b\b\b\b\b\b\b\b\b\b\b\b\b\n"
     ]
    },
    {
     "data": {
      "text/plain": [
       "[0.3276130259037018, 0.8855999708175659]"
      ]
     },
     "execution_count": 20,
     "metadata": {},
     "output_type": "execute_result"
    }
   ],
   "source": [
    "# with test data\n",
    "# remember our data splits\n",
    "# originally: (X_train_full, y_train_full), (X_test_full, y_test_full)\n",
    "# then we training data into validation and training but test was still the same\n",
    "model.evaluate(X_test, y_test_full)\n"
   ]
  },
  {
   "cell_type": "code",
   "execution_count": 21,
   "metadata": {
    "pycharm": {
     "name": "#%%\n"
    },
    "slideshow": {
     "slide_type": "subslide"
    }
   },
   "outputs": [
    {
     "data": {
      "text/plain": [
       "array([[0.  , 0.  , 0.  , 0.  , 0.  , 0.04, 0.  , 0.02, 0.  , 0.94],\n",
       "       [0.  , 0.  , 1.  , 0.  , 0.  , 0.  , 0.  , 0.  , 0.  , 0.  ],\n",
       "       [0.  , 1.  , 0.  , 0.  , 0.  , 0.  , 0.  , 0.  , 0.  , 0.  ]],\n",
       "      dtype=float32)"
      ]
     },
     "execution_count": 21,
     "metadata": {},
     "output_type": "execute_result"
    }
   ],
   "source": [
    "# test it on some data and see how well it predicts\n",
    "X_new = X_test[:3]\n",
    "y_probability = model.predict(X_new)\n",
    "y_probability_round = y_probability.round(2)\n",
    "y_probability_round\n",
    "# good place to confirm our predictions"
   ]
  },
  {
   "cell_type": "code",
   "execution_count": 23,
   "metadata": {
    "pycharm": {
     "name": "#%%\n"
    },
    "slideshow": {
     "slide_type": "subslide"
    }
   },
   "outputs": [
    {
     "name": "stdout",
     "output_type": "stream",
     "text": [
      "(array([9], dtype=int64),)\n",
      "(array([2], dtype=int64),)\n",
      "(array([1], dtype=int64),)\n"
     ]
    },
    {
     "data": {
      "image/png": "[encoded data removed]",
      "text/plain": [
       "<Figure size 1382.4x1036.8 with 3 Axes>"
      ]
     },
     "metadata": {
      "needs_background": "light"
     },
     "output_type": "display_data"
    }
   ],
   "source": [
    "# let us bring out all the three images their correct labes\n",
    "# and the highest probability predictions from the results above\n",
    "# it is time for the truth now\n",
    "\n",
    "counter = 0\n",
    "fashion_index = 0\n",
    "plt.figure(figsize=(8 * 2.4, 6 * 2.4))\n",
    "for item_to_predict in X_new:\n",
    "    # index_of_highest_probability = y_probability.where(arr == max(y_probability))\n",
    "    max_probability_label_index = np.where(y_probability_round[fashion_index] == max(y_probability_round[fashion_index]))\n",
    "    print(max_probability_label_index)\n",
    "    plt.subplot(4, 5, counter + 1)\n",
    "    counter += 1\n",
    "    plt.imshow(item_to_predict, cmap=\"binary\", interpolation=\"nearest\")\n",
    "    plt.axis('off')\n",
    "    plt.title(\"Actual: \" + fashion_class_names[y_test_full[fashion_index]], fontsize=12)\n",
    "    fashion_index += 1\n",
    "plt.subplots_adjust(wspace=1, hspace=1)\n",
    "plt.show()"
   ]
  },
  {
   "cell_type": "code",
   "execution_count": 24,
   "metadata": {
    "pycharm": {
     "name": "#%%\n"
    },
    "slideshow": {
     "slide_type": "subslide"
    }
   },
   "outputs": [
    {
     "data": {
      "text/plain": [
       "'Ankle boot'"
      ]
     },
     "execution_count": 24,
     "metadata": {},
     "output_type": "execute_result"
    }
   ],
   "source": [
    "fashion_class_names[9]"
   ]
  },
  {
   "cell_type": "code",
   "execution_count": 25,
   "metadata": {
    "pycharm": {
     "name": "#%%\n"
    },
    "slideshow": {
     "slide_type": "subslide"
    }
   },
   "outputs": [
    {
     "data": {
      "text/plain": [
       "'Pullover'"
      ]
     },
     "execution_count": 25,
     "metadata": {},
     "output_type": "execute_result"
    }
   ],
   "source": [
    "fashion_class_names[2]"
   ]
  },
  {
   "cell_type": "code",
   "execution_count": 26,
   "metadata": {
    "pycharm": {
     "name": "#%%\n"
    },
    "slideshow": {
     "slide_type": "subslide"
    }
   },
   "outputs": [
    {
     "data": {
      "text/plain": [
       "'Trouser'"
      ]
     },
     "execution_count": 26,
     "metadata": {},
     "output_type": "execute_result"
    }
   ],
   "source": [
    "fashion_class_names[1]"
   ]
  },
  {
   "cell_type": "markdown",
   "metadata": {
    "pycharm": {
     "is_executing": true,
     "name": "#%% md\n"
    },
    "slideshow": {
     "slide_type": "slide"
    }
   },
   "source": [
    "# step 12: save the world"
   ]
  },
  {
   "cell_type": "code",
   "execution_count": null,
   "metadata": {
    "pycharm": {
     "is_executing": true,
     "name": "#%%\n"
    },
    "slideshow": {
     "slide_type": "subslide"
    }
   },
   "outputs": [],
   "source": [
    "model.save(\"fashion_classifier_model.h5\")\n"
   ]
  }
 ],
 "metadata": {
  "celltoolbar": "Slideshow",
  "kernelspec": {
   "display_name": "Python 3",
   "language": "python",
   "name": "python3"
  },
  "language_info": {
   "codemirror_mode": {
    "name": "ipython",
    "version": 3
   },
   "file_extension": ".py",
   "mimetype": "text/x-python",
   "name": "python",
   "nbconvert_exporter": "python",
   "pygments_lexer": "ipython3",
   "version": "3.7.9"
  }
 },
 "nbformat": 4,
 "nbformat_minor": 1
}